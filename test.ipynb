{
 "cells": [
  {
   "cell_type": "code",
   "execution_count": 3,
   "metadata": {},
   "outputs": [
    {
     "name": "stderr",
     "output_type": "stream",
     "text": [
      "/home/codespace/.local/lib/python3.10/site-packages/tqdm/auto.py:21: TqdmWarning: IProgress not found. Please update jupyter and ipywidgets. See https://ipywidgets.readthedocs.io/en/stable/user_install.html\n",
      "  from .autonotebook import tqdm as notebook_tqdm\n"
     ]
    }
   ],
   "source": [
    "import streamlit as st\n",
    "import numpy as np\n",
    "import pandas as pd\n",
    "from sentence_transformers import SentenceTransformer, util\n",
    "import fitz  # PyMuPDF"
   ]
  },
  {
   "cell_type": "code",
   "execution_count": 4,
   "metadata": {},
   "outputs": [
    {
     "name": "stderr",
     "output_type": "stream",
     "text": [
      "/tmp/ipykernel_49020/2563404436.py:2: DtypeWarning: Columns (17,18) have mixed types. Specify dtype option on import or set low_memory=False.\n",
      "  jobs_df = pd.read_csv(\"all_job_offers.csv\")\n"
     ]
    }
   ],
   "source": [
    "job_vectors = np.load(\"job_vectors.npy\")\n",
    "jobs_df = pd.read_csv(\"all_job_offers.csv\")"
   ]
  },
  {
   "cell_type": "code",
   "execution_count": 37,
   "metadata": {},
   "outputs": [],
   "source": [
    "model = SentenceTransformer('paraphrase-multilingual-MiniLM-L12-v2')\n",
    "resume_vector = model.encode(\"En tant qu'étudiant en Big Data et Intelligence Artificielle, je suis débutant je suis particulièrement bien qualifié avec Extraversion pour des rôles impliquant l'analyse de données et l'extraction d'informations pertinentes à partir de grandes quantités de données. Mes connaissances en Machine Learning me permettent également de travailler sur des projets de conception de modèles IA et/ou d’optimisation des paramètres de ces modèles.\")\n",
    "similarities = util.cos_sim(resume_vector, job_vectors)\n",
    "top_results = np.argsort(-similarities[0])[:5]"
   ]
  },
  {
   "cell_type": "code",
   "execution_count": 38,
   "metadata": {},
   "outputs": [
    {
     "data": {
      "text/plain": [
       "tensor([0.4576, 0.1570, 0.1556,  ..., 0.1290, 0.3411, 0.4102])"
      ]
     },
     "execution_count": 38,
     "metadata": {},
     "output_type": "execute_result"
    }
   ],
   "source": [
    "similarities[0]"
   ]
  },
  {
   "cell_type": "code",
   "execution_count": 39,
   "metadata": {},
   "outputs": [
    {
     "data": {
      "text/plain": [
       "tensor([70266, 72612, 81010, 75839, 72734])"
      ]
     },
     "execution_count": 39,
     "metadata": {},
     "output_type": "execute_result"
    }
   ],
   "source": [
    "np.argsort(-similarities[0])[:5]"
   ]
  },
  {
   "cell_type": "code",
   "execution_count": 40,
   "metadata": {},
   "outputs": [
    {
     "data": {
      "text/html": [
       "<div>\n",
       "<style scoped>\n",
       "    .dataframe tbody tr th:only-of-type {\n",
       "        vertical-align: middle;\n",
       "    }\n",
       "\n",
       "    .dataframe tbody tr th {\n",
       "        vertical-align: top;\n",
       "    }\n",
       "\n",
       "    .dataframe thead th {\n",
       "        text-align: right;\n",
       "    }\n",
       "</style>\n",
       "<table border=\"1\" class=\"dataframe\">\n",
       "  <thead>\n",
       "    <tr style=\"text-align: right;\">\n",
       "      <th></th>\n",
       "      <th>job_title</th>\n",
       "      <th>city</th>\n",
       "      <th>function</th>\n",
       "      <th>sector</th>\n",
       "      <th>Expérience requise</th>\n",
       "      <th>Région</th>\n",
       "      <th>Niveau d'étude et formation</th>\n",
       "      <th>Type de contrat</th>\n",
       "      <th>Télétravail</th>\n",
       "      <th>soft_skills</th>\n",
       "      <th>...</th>\n",
       "      <th>Qualités requises pour réussir dans ce rôle</th>\n",
       "      <th>Ce que vous pouvez attendre de nous</th>\n",
       "      <th>pub_date</th>\n",
       "      <th>exp_date</th>\n",
       "      <th>pub_date_day</th>\n",
       "      <th>pub_date_month</th>\n",
       "      <th>pub_date_year</th>\n",
       "      <th>exp_date_day</th>\n",
       "      <th>exp_date_month</th>\n",
       "      <th>exp_date_year</th>\n",
       "    </tr>\n",
       "  </thead>\n",
       "  <tbody>\n",
       "    <tr>\n",
       "      <th>70266</th>\n",
       "      <td>Agri DataScientist</td>\n",
       "      <td>Ben guérir</td>\n",
       "      <td>Informatique / Electronique</td>\n",
       "      <td>Informatique</td>\n",
       "      <td>De 3 à 5 ans</td>\n",
       "      <td>1 poste(s) sur Autres régions - Maroc</td>\n",
       "      <td>Bac +5 et plus</td>\n",
       "      <td>CDI</td>\n",
       "      <td>no</td>\n",
       "      <td>Besoin d'autonomie|Besoin de réflexion|Ambitio...</td>\n",
       "      <td>...</td>\n",
       "      <td>NaN</td>\n",
       "      <td>NaN</td>\n",
       "      <td>22/06/2022</td>\n",
       "      <td>22/08/2022</td>\n",
       "      <td>22</td>\n",
       "      <td>6</td>\n",
       "      <td>2022</td>\n",
       "      <td>22</td>\n",
       "      <td>8</td>\n",
       "      <td>2022</td>\n",
       "    </tr>\n",
       "    <tr>\n",
       "      <th>72612</th>\n",
       "      <td>Agri DataScientist</td>\n",
       "      <td>Ben guérir</td>\n",
       "      <td>Informatique / Electronique</td>\n",
       "      <td>Informatique</td>\n",
       "      <td>De 3 à 5 ans</td>\n",
       "      <td>1 poste(s) sur Autres régions - Maroc</td>\n",
       "      <td>Bac +5 et plus</td>\n",
       "      <td>CDI</td>\n",
       "      <td>no</td>\n",
       "      <td>Besoin d'autonomie|Besoin de réflexion|Ambitio...</td>\n",
       "      <td>...</td>\n",
       "      <td>NaN</td>\n",
       "      <td>NaN</td>\n",
       "      <td>14/04/2022</td>\n",
       "      <td>14/06/2022</td>\n",
       "      <td>14</td>\n",
       "      <td>4</td>\n",
       "      <td>2022</td>\n",
       "      <td>14</td>\n",
       "      <td>6</td>\n",
       "      <td>2022</td>\n",
       "    </tr>\n",
       "    <tr>\n",
       "      <th>81010</th>\n",
       "      <td>Agri DataScientist 1</td>\n",
       "      <td>Benguerir</td>\n",
       "      <td>Enseignement</td>\n",
       "      <td>Informatique</td>\n",
       "      <td>De 3 à 5 ans</td>\n",
       "      <td>1 poste(s) sur Autres régions - Maroc</td>\n",
       "      <td>Bac +5 et plus</td>\n",
       "      <td>CDI</td>\n",
       "      <td>no info</td>\n",
       "      <td>Extraversion|Organisation|Respect des règles|B...</td>\n",
       "      <td>...</td>\n",
       "      <td>NaN</td>\n",
       "      <td>NaN</td>\n",
       "      <td>28/08/2021</td>\n",
       "      <td>28/10/2021</td>\n",
       "      <td>28</td>\n",
       "      <td>8</td>\n",
       "      <td>2021</td>\n",
       "      <td>28</td>\n",
       "      <td>10</td>\n",
       "      <td>2021</td>\n",
       "    </tr>\n",
       "    <tr>\n",
       "      <th>75839</th>\n",
       "      <td>Agri DataScientist 1</td>\n",
       "      <td>Benguerir</td>\n",
       "      <td>Enseignement</td>\n",
       "      <td>Informatique</td>\n",
       "      <td>De 3 à 5 ans</td>\n",
       "      <td>1 poste(s) sur Autres régions - Maroc</td>\n",
       "      <td>Bac +5 et plus</td>\n",
       "      <td>CDI</td>\n",
       "      <td>no info</td>\n",
       "      <td>Recherche de nouveauté|Besoin de réflexion|Res...</td>\n",
       "      <td>...</td>\n",
       "      <td>NaN</td>\n",
       "      <td>NaN</td>\n",
       "      <td>18/01/2022</td>\n",
       "      <td>18/03/2022</td>\n",
       "      <td>18</td>\n",
       "      <td>1</td>\n",
       "      <td>2022</td>\n",
       "      <td>18</td>\n",
       "      <td>3</td>\n",
       "      <td>2022</td>\n",
       "    </tr>\n",
       "    <tr>\n",
       "      <th>72734</th>\n",
       "      <td>Agri DataScientist 1</td>\n",
       "      <td>Benguerir</td>\n",
       "      <td>Enseignement</td>\n",
       "      <td>Informatique</td>\n",
       "      <td>De 3 à 5 ans</td>\n",
       "      <td>1 poste(s) sur Autres régions - Maroc</td>\n",
       "      <td>Bac +5 et plus</td>\n",
       "      <td>CDI</td>\n",
       "      <td>no</td>\n",
       "      <td>Extraversion|Organisation|Respect des règles|B...</td>\n",
       "      <td>...</td>\n",
       "      <td>NaN</td>\n",
       "      <td>NaN</td>\n",
       "      <td>12/04/2022</td>\n",
       "      <td>12/06/2022</td>\n",
       "      <td>12</td>\n",
       "      <td>4</td>\n",
       "      <td>2022</td>\n",
       "      <td>12</td>\n",
       "      <td>6</td>\n",
       "      <td>2022</td>\n",
       "    </tr>\n",
       "  </tbody>\n",
       "</table>\n",
       "<p>5 rows × 27 columns</p>\n",
       "</div>"
      ],
      "text/plain": [
       "                  job_title        city                     function  \\\n",
       "70266    Agri DataScientist  Ben guérir  Informatique / Electronique   \n",
       "72612    Agri DataScientist  Ben guérir  Informatique / Electronique   \n",
       "81010  Agri DataScientist 1   Benguerir                 Enseignement   \n",
       "75839  Agri DataScientist 1   Benguerir                 Enseignement   \n",
       "72734  Agri DataScientist 1   Benguerir                 Enseignement   \n",
       "\n",
       "             sector Expérience requise                                 Région  \\\n",
       "70266  Informatique       De 3 à 5 ans  1 poste(s) sur Autres régions - Maroc   \n",
       "72612  Informatique       De 3 à 5 ans  1 poste(s) sur Autres régions - Maroc   \n",
       "81010  Informatique       De 3 à 5 ans  1 poste(s) sur Autres régions - Maroc   \n",
       "75839  Informatique       De 3 à 5 ans  1 poste(s) sur Autres régions - Maroc   \n",
       "72734  Informatique       De 3 à 5 ans  1 poste(s) sur Autres régions - Maroc   \n",
       "\n",
       "      Niveau d'étude et formation Type de contrat Télétravail  \\\n",
       "70266              Bac +5 et plus             CDI          no   \n",
       "72612              Bac +5 et plus             CDI          no   \n",
       "81010              Bac +5 et plus             CDI     no info   \n",
       "75839              Bac +5 et plus             CDI     no info   \n",
       "72734              Bac +5 et plus             CDI          no   \n",
       "\n",
       "                                             soft_skills  ...  \\\n",
       "70266  Besoin d'autonomie|Besoin de réflexion|Ambitio...  ...   \n",
       "72612  Besoin d'autonomie|Besoin de réflexion|Ambitio...  ...   \n",
       "81010  Extraversion|Organisation|Respect des règles|B...  ...   \n",
       "75839  Recherche de nouveauté|Besoin de réflexion|Res...  ...   \n",
       "72734  Extraversion|Organisation|Respect des règles|B...  ...   \n",
       "\n",
       "      Qualités requises pour réussir dans ce rôle  \\\n",
       "70266                                         NaN   \n",
       "72612                                         NaN   \n",
       "81010                                         NaN   \n",
       "75839                                         NaN   \n",
       "72734                                         NaN   \n",
       "\n",
       "      Ce que vous pouvez attendre de nous    pub_date    exp_date  \\\n",
       "70266                                 NaN  22/06/2022  22/08/2022   \n",
       "72612                                 NaN  14/04/2022  14/06/2022   \n",
       "81010                                 NaN  28/08/2021  28/10/2021   \n",
       "75839                                 NaN  18/01/2022  18/03/2022   \n",
       "72734                                 NaN  12/04/2022  12/06/2022   \n",
       "\n",
       "      pub_date_day  pub_date_month pub_date_year exp_date_day exp_date_month  \\\n",
       "70266           22               6          2022           22              8   \n",
       "72612           14               4          2022           14              6   \n",
       "81010           28               8          2021           28             10   \n",
       "75839           18               1          2022           18              3   \n",
       "72734           12               4          2022           12              6   \n",
       "\n",
       "      exp_date_year  \n",
       "70266          2022  \n",
       "72612          2022  \n",
       "81010          2021  \n",
       "75839          2022  \n",
       "72734          2022  \n",
       "\n",
       "[5 rows x 27 columns]"
      ]
     },
     "execution_count": 40,
     "metadata": {},
     "output_type": "execute_result"
    }
   ],
   "source": [
    "jobs_df.iloc[top_results]"
   ]
  },
  {
   "cell_type": "code",
   "execution_count": 41,
   "metadata": {},
   "outputs": [
    {
     "data": {
      "text/plain": [
       "tensor([0.7170, 0.7170, 0.7104, 0.7104, 0.7104])"
      ]
     },
     "execution_count": 41,
     "metadata": {},
     "output_type": "execute_result"
    }
   ],
   "source": [
    "similarities[0][top_results]"
   ]
  },
  {
   "cell_type": "code",
   "execution_count": null,
   "metadata": {},
   "outputs": [],
   "source": []
  }
 ],
 "metadata": {
  "kernelspec": {
   "display_name": "Python 3",
   "language": "python",
   "name": "python3"
  },
  "language_info": {
   "codemirror_mode": {
    "name": "ipython",
    "version": 3
   },
   "file_extension": ".py",
   "mimetype": "text/x-python",
   "name": "python",
   "nbconvert_exporter": "python",
   "pygments_lexer": "ipython3",
   "version": "3.10.13"
  }
 },
 "nbformat": 4,
 "nbformat_minor": 2
}
